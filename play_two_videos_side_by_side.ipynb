{
 "cells": [
  {
   "cell_type": "code",
   "execution_count": 1,
   "metadata": {},
   "outputs": [],
   "source": [
    "import os"
   ]
  },
  {
   "cell_type": "code",
   "execution_count": 13,
   "metadata": {},
   "outputs": [],
   "source": [
    "cmd_template = \"ffplay -left {} -top {} -x {} -y {} '{}' &\""
   ]
  },
  {
   "cell_type": "code",
   "execution_count": 14,
   "metadata": {},
   "outputs": [],
   "source": [
    "file_1 = '/Volumes/Pegasus32 R6/*All My Videos - Downloaded and HDCP-Cracked and Recorded/Re-encoding playgrounds/Video Compression Playground/To be re-compressed/batch 2/from RAID/Recorded Video/20190321_194442.MOV'\n",
    "file_2 = '/Volumes/Pegasus32 R6/*All My Videos - Downloaded and HDCP-Cracked and Recorded/Re-encoding playgrounds/Video Compression Playground/Re-compressed/batch 2/from RAID/Recorded Video/h265-10bit-medium-crf20 -- bad , smaller/20190321_194442.mp4'"
   ]
  },
  {
   "cell_type": "code",
   "execution_count": 15,
   "metadata": {},
   "outputs": [],
   "source": [
    "cmd_1 = cmd_template.format(0, 0, 960, 540, file_1)\n",
    "cmd_2 = cmd_template.format(960, 0, 960, 540, file_2)"
   ]
  },
  {
   "cell_type": "code",
   "execution_count": 12,
   "metadata": {},
   "outputs": [
    {
     "data": {
      "text/plain": [
       "\"ffplay -left 0 -top 0 -x 960 -y 540 '/Volumes/Pegasus32 R6/*All My Videos - Downloaded and HDCP-Cracked and Recorded/Re-encoding playgrounds/Video Compression Playground/To be re-compressed/batch 2/from RAID/Recorded Video/20190321_194442.MOV'' &\""
      ]
     },
     "execution_count": 12,
     "metadata": {},
     "output_type": "execute_result"
    }
   ],
   "source": []
  },
  {
   "cell_type": "code",
   "execution_count": 16,
   "metadata": {},
   "outputs": [
    {
     "data": {
      "text/plain": [
       "0"
      ]
     },
     "execution_count": 16,
     "metadata": {},
     "output_type": "execute_result"
    }
   ],
   "source": [
    "os.system(cmd_1)\n",
    "os.system(cmd_2)"
   ]
  }
 ],
 "metadata": {
  "kernelspec": {
   "display_name": "Python 3",
   "language": "python",
   "name": "python3"
  },
  "language_info": {
   "codemirror_mode": {
    "name": "ipython",
    "version": 3
   },
   "file_extension": ".py",
   "mimetype": "text/x-python",
   "name": "python",
   "nbconvert_exporter": "python",
   "pygments_lexer": "ipython3",
   "version": "3.7.1"
  }
 },
 "nbformat": 4,
 "nbformat_minor": 2
}
