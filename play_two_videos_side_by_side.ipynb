{
 "cells": [
  {
   "cell_type": "code",
   "execution_count": 1,
   "metadata": {},
   "outputs": [],
   "source": [
    "from os import listdir\n",
    "from os.path import isfile, join, exists\n",
    "from os import getcwd\n",
    "from tkinter import filedialog\n",
    "from tkinter import *\n",
    "from pathlib import Path\n",
    "\n",
    "def gui_pick_folder(default_initialdir=None):\n",
    "    log_file_name ='folder_chosen_history.txt'\n",
    "    root = Tk()\n",
    "    root.withdraw()\n",
    "    \n",
    "#     print(\"default_initialdir: \", default_initialdir)\n",
    "    if default_initialdir is None:   \n",
    "        if exists(log_file_name):\n",
    "            with open(log_file_name, 'r') as fp:\n",
    "                last_opened_folder = fp.readline()\n",
    "\n",
    "        else:\n",
    "            last_opened_folder = Path.home()\n",
    "    else:\n",
    "        last_opened_folder = default_initialdir\n",
    "        \n",
    "    file_name = filedialog.askopenfilename(initialdir=last_opened_folder,title='Select a File')\n",
    "    root.update()\n",
    "\n",
    "    if len(file_name) > 0:\n",
    "        with open(log_file_name,'w') as fp:\n",
    "            fp.write(file_name)\n",
    "\n",
    "    root.destroy()\n",
    "    return file_name"
   ]
  },
  {
   "cell_type": "code",
   "execution_count": 2,
   "metadata": {},
   "outputs": [],
   "source": [
    "import os"
   ]
  },
  {
   "cell_type": "code",
   "execution_count": 3,
   "metadata": {},
   "outputs": [],
   "source": [
    "cmd_template = \"ffplay -left {} -top {} -x {} -y {} '{}' &\""
   ]
  },
  {
   "cell_type": "code",
   "execution_count": 4,
   "metadata": {},
   "outputs": [],
   "source": [
    "# file_1 = '/Volumes/Pegasus32 R6/*All My Videos - Downloaded and HDCP-Cracked and Recorded/Re-encoding playgrounds/Video Compression Playground/To be re-compressed/batch 2/from RAID/Recorded Video/20190321_194442.MOV'\n",
    "# file_2 = '/Volumes/Pegasus32 R6/*All My Videos - Downloaded and HDCP-Cracked and Recorded/Re-encoding playgrounds/Video Compression Playground/Re-compressed/batch 2/from RAID/Recorded Video/h265-10bit-medium-crf20 -- bad , smaller/20190321_194442.mp4'"
   ]
  },
  {
   "cell_type": "code",
   "execution_count": 5,
   "metadata": {},
   "outputs": [],
   "source": [
    "file_1 = gui_pick_folder()\n",
    "file_2 = gui_pick_folder()"
   ]
  },
  {
   "cell_type": "code",
   "execution_count": 6,
   "metadata": {},
   "outputs": [],
   "source": [
    "cmd_1 = cmd_template.format(0, 0, 1280, 1280, file_1)\n",
    "cmd_2 = cmd_template.format(1280, 0, 1280, 1280, file_2)"
   ]
  },
  {
   "cell_type": "code",
   "execution_count": null,
   "metadata": {},
   "outputs": [],
   "source": []
  },
  {
   "cell_type": "code",
   "execution_count": 7,
   "metadata": {},
   "outputs": [
    {
     "data": {
      "text/plain": [
       "0"
      ]
     },
     "execution_count": 7,
     "metadata": {},
     "output_type": "execute_result"
    }
   ],
   "source": [
    "os.system(cmd_1)\n",
    "os.system(cmd_2)"
   ]
  },
  {
   "cell_type": "code",
   "execution_count": 8,
   "metadata": {},
   "outputs": [
    {
     "data": {
      "text/plain": [
       "0"
      ]
     },
     "execution_count": 8,
     "metadata": {},
     "output_type": "execute_result"
    }
   ],
   "source": [
    "cmd = \"\"\"\n",
    "osascript -e 'tell application \"System Events\" to keystroke \"m\" using {command down}' \n",
    "\"\"\"\n",
    "# minimize active window\n",
    "os.system(cmd)"
   ]
  }
 ],
 "metadata": {
  "kernelspec": {
   "display_name": "Python 3",
   "language": "python",
   "name": "python3"
  },
  "language_info": {
   "codemirror_mode": {
    "name": "ipython",
    "version": 3
   },
   "file_extension": ".py",
   "mimetype": "text/x-python",
   "name": "python",
   "nbconvert_exporter": "python",
   "pygments_lexer": "ipython3",
   "version": "3.7.1"
  }
 },
 "nbformat": 4,
 "nbformat_minor": 4
}
